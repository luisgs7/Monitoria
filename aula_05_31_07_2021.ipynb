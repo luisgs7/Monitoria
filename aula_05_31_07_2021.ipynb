{
  "nbformat": 4,
  "nbformat_minor": 0,
  "metadata": {
    "colab": {
      "name": "aula_05_31_07_2021.ipynb",
      "provenance": [],
      "collapsed_sections": [],
      "include_colab_link": true
    },
    "kernelspec": {
      "name": "python3",
      "display_name": "Python 3"
    },
    "language_info": {
      "name": "python"
    }
  },
  "cells": [
    {
      "cell_type": "markdown",
      "metadata": {
        "id": "view-in-github",
        "colab_type": "text"
      },
      "source": [
        "<a href=\"https://colab.research.google.com/github/luisgs7/Monitoria/blob/main/aula_05_31_07_2021.ipynb\" target=\"_parent\"><img src=\"https://colab.research.google.com/assets/colab-badge.svg\" alt=\"Open In Colab\"/></a>"
      ]
    },
    {
      "cell_type": "markdown",
      "metadata": {
        "id": "d3ttYMMSA8ar"
      },
      "source": [
        "# 1010 - Cálculo Simples"
      ]
    },
    {
      "cell_type": "code",
      "metadata": {
        "colab": {
          "base_uri": "https://localhost:8080/"
        },
        "id": "5pOO6GGC8Egi",
        "outputId": "59fa801d-1f10-4ac6-f45e-203ca2ebb529"
      },
      "source": [
        "codigo1, quantidade1, valor1 = input().split(\" \")\n",
        "codigo2, quantidade2, valor2 = input().split(\" \")\n",
        "\n",
        "codigo1 = int(codigo1)\n",
        "quantidade1 = int(quantidade1)\n",
        "valor1 = float(valor1)\n",
        "\n",
        "codigo2 = int(codigo2)\n",
        "quantidade2 = int(quantidade2)\n",
        "valor2 = float(valor2)\n",
        "\n",
        "soma = quantidade1 * valor1 + quantidade2 * valor2\n",
        "\n",
        "print(\"VALOR A PAGAR: R$ %.2f\" %(soma))\n"
      ],
      "execution_count": null,
      "outputs": [
        {
          "output_type": "stream",
          "text": [
            "1 2 5.00\n",
            "2 1 6.00\n",
            "VALOR A PAGAR: R$ 16.00\n"
          ],
          "name": "stdout"
        }
      ]
    },
    {
      "cell_type": "markdown",
      "metadata": {
        "id": "ubiZ_w3AF0ot"
      },
      "source": [
        "# 1011 - Esfera"
      ]
    },
    {
      "cell_type": "code",
      "metadata": {
        "colab": {
          "base_uri": "https://localhost:8080/"
        },
        "id": "f5jzKHhcETHO",
        "outputId": "53098f37-9dde-4ea3-d539-7bee539bc41b"
      },
      "source": [
        "raio = float(input())\n",
        "\n",
        "volume = (4/3.0) * 3.14159 * (raio * raio * raio)\n",
        "\n",
        "print(\"VOLUME = %.3f\" %(volume))"
      ],
      "execution_count": null,
      "outputs": [
        {
          "output_type": "stream",
          "text": [
            "3\n",
            "VOLUME = 113.097\n"
          ],
          "name": "stdout"
        }
      ]
    },
    {
      "cell_type": "markdown",
      "metadata": {
        "id": "yKoIHB1jF8vI"
      },
      "source": [
        "# 1012 - Área"
      ]
    },
    {
      "cell_type": "code",
      "metadata": {
        "colab": {
          "base_uri": "https://localhost:8080/"
        },
        "id": "faBvyoONGGNw",
        "outputId": "aa88b402-dbf8-484a-8c42-f2a789d51d00"
      },
      "source": [
        "A, B, C = input().split(\" \")\n",
        "\n",
        "A = float(A)\n",
        "B = float(B)\n",
        "C = float(C)\n",
        "\n",
        "areaTriangulo = A * C /2\n",
        "areaCirculo = 3.14159 * (C * C)\n",
        "areaTrapezio = ((A + B) / 2 ) * C\n",
        "areaQuadrado = B * B\n",
        "areaRetangulo = A * B\n",
        "\n",
        "print(\"TRIANGULO: %.3f\" %(areaTriangulo))\n",
        "print(\"CIRCULO: %.3f\" %(areaCirculo))\n",
        "print(\"TRAPEZIO: %.3f\" %(areaTrapezio))\n",
        "print(\"QUADRADO: %.3f\" %(areaQuadrado))\n",
        "print(\"RETANGULO: %.3f\" %(areaRetangulo))"
      ],
      "execution_count": null,
      "outputs": [
        {
          "output_type": "stream",
          "text": [
            "3.0 4.0 5.2\n",
            "TRIANGULO: 7.800\n",
            "CIRCULO: 84.949\n",
            "TRAPEZIO: 18.200\n",
            "QUADRADO: 16.000\n",
            "RETANGULO: 12.000\n"
          ],
          "name": "stdout"
        }
      ]
    },
    {
      "cell_type": "markdown",
      "metadata": {
        "id": "kMil-ijUJzwB"
      },
      "source": [
        "# 1013 - O Maior"
      ]
    },
    {
      "cell_type": "code",
      "metadata": {
        "colab": {
          "base_uri": "https://localhost:8080/",
          "height": 90
        },
        "id": "pNx90029LJpK",
        "outputId": "74ffb8ae-0630-476b-fb25-d303f16f2426"
      },
      "source": [
        "a, b, c = input().split(\" \")\n",
        "\n",
        "a = int(a)\n",
        "b = int(b)\n",
        "c = int(c)\n",
        "\n",
        "\n",
        "if a > b and a > c:\n",
        "  print(a, \"eh o maior\")\n",
        "\n",
        "elif b > a and b > c:\n",
        "  print(b, \"eh o maior\")\n",
        "\n",
        "elif c > a and c > b:\n",
        "  print(c, \"eh o maior\")"
      ],
      "execution_count": null,
      "outputs": [
        {
          "output_type": "stream",
          "text": [
            "7 14 106\n",
            "106 eh o maior\n"
          ],
          "name": "stdout"
        },
        {
          "output_type": "execute_result",
          "data": {
            "application/vnd.google.colaboratory.intrinsic+json": {
              "type": "string"
            },
            "text/plain": [
              "'\\n\\nMAIOR_AB = (a + b + abs(a  -b))/2\\nMAIOR_ABC = (MAIOR_AB + c + abs(MAIOR_AB - c))/2\\n\\n\\nVerificar qual o maior valor:\\n  a = 10\\n  b = 9\\n  c = 8\\n\\n  a > b \\n\\n  a > c \\n\\n  a > b > c\\n'"
            ]
          },
          "metadata": {
            "tags": []
          },
          "execution_count": 5
        }
      ]
    },
    {
      "cell_type": "markdown",
      "metadata": {
        "id": "KTX8jGn4MVUl"
      },
      "source": [
        "# 1014 - Consumo"
      ]
    },
    {
      "cell_type": "code",
      "metadata": {
        "colab": {
          "base_uri": "https://localhost:8080/"
        },
        "id": "nIAe9Qt6MZO8",
        "outputId": "f29d29b7-2114-42c3-8253-8a74a41120ab"
      },
      "source": [
        "X = int(input())\n",
        "Y = float(input())\n",
        "\n",
        "consumo = X / Y\n",
        "\n",
        "print(\"%.3f km/l\" %(consumo))"
      ],
      "execution_count": null,
      "outputs": [
        {
          "output_type": "stream",
          "text": [
            "500\n",
            "35\n",
            "14.286 km/l\n"
          ],
          "name": "stdout"
        }
      ]
    },
    {
      "cell_type": "markdown",
      "metadata": {
        "id": "9Xw6CWR4N_I8"
      },
      "source": [
        "# 1015 - Distancia Entre Dois Pontos"
      ]
    },
    {
      "cell_type": "code",
      "metadata": {
        "colab": {
          "base_uri": "https://localhost:8080/"
        },
        "id": "OvqPUVcBODED",
        "outputId": "ff142ba6-0fa5-41f6-d45f-35ce6fe4084b"
      },
      "source": [
        "import math\n",
        "\n",
        "x1, y1 = input().split(\" \")\n",
        "x2, y2 = input().split(\" \")\n",
        "\n",
        "x1 = float(x1)\n",
        "y1 = float(y1)\n",
        "\n",
        "x2 = float(x2)\n",
        "y2 = float(y2)\n",
        "\n",
        "resultado = math.sqrt((x2 - x1) * (x2 - x1) + (y2 - y1) * (y2 - y1))\n",
        "\n",
        "print(\"%.4f\" %(resultado))"
      ],
      "execution_count": null,
      "outputs": [
        {
          "output_type": "stream",
          "text": [
            "1.0 7.0\n",
            "5.0 9.0\n",
            "4.4721\n"
          ],
          "name": "stdout"
        }
      ]
    }
  ]
}