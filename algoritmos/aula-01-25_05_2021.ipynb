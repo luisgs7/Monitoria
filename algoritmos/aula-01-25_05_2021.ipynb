{
  "nbformat": 4,
  "nbformat_minor": 0,
  "metadata": {
    "colab": {
      "name": "aula-01.ipynb",
      "provenance": [],
      "authorship_tag": "ABX9TyPIfWcQr45lmE7Re3vE+oPJ",
      "include_colab_link": true
    },
    "kernelspec": {
      "name": "python3",
      "display_name": "Python 3"
    },
    "language_info": {
      "name": "python"
    }
  },
  "cells": [
    {
      "cell_type": "markdown",
      "metadata": {
        "id": "view-in-github",
        "colab_type": "text"
      },
      "source": [
        "<a href=\"https://colab.research.google.com/github/luisgs7/Monitoria/blob/main/aula_01.ipynb\" target=\"_parent\"><img src=\"https://colab.research.google.com/assets/colab-badge.svg\" alt=\"Open In Colab\"/></a>"
      ]
    },
    {
      "cell_type": "markdown",
      "metadata": {
        "id": "hBQlfKHkIhiC"
      },
      "source": [
        "# Monitoria 01 - VAMOS LÁ!!!!!!!\n",
        "\n",
        "01 - Desenvolva uma calculadora que permita realizar a soma de dois numeros inteiros informados pelo usuário."
      ]
    },
    {
      "cell_type": "code",
      "metadata": {
        "colab": {
          "base_uri": "https://localhost:8080/"
        },
        "id": "t_WwOxem9nxI",
        "outputId": "be115667-e51b-4507-ff90-c043a704ce80"
      },
      "source": [
        "# DECLARAÇÃO DE VARIÁVEIS EM PYTHON  E ENTRADA DE DADOS\n",
        "primeiro_valor = int(input(\"Digite o primeiro valor a ser somado: \"))\n",
        "segundo_valor =  int(input(\"Digite o segundo valor a ser somado: \"))\n",
        "soma = 0\n",
        "\n",
        "\n",
        "# SOMA DOS VALORES INFORMADOS\n",
        "soma = primeiro_valor + segundo_valor\n",
        "\n",
        "print(\"O resultado da soma eh: \", soma)"
      ],
      "execution_count": 2,
      "outputs": [
        {
          "output_type": "stream",
          "text": [
            "Digite o primeiro valor a ser somado: 4\n",
            "Digite o segundo valor a ser somado: 5\n",
            "O resultado da soma eh:  9\n"
          ],
          "name": "stdout"
        }
      ]
    },
    {
      "cell_type": "markdown",
      "metadata": {
        "id": "D4RLy_sLEuWn"
      },
      "source": [
        "02 - Desenvolva um algoritmo que com base na idade informada, apresente ao usuário se ele poderá ou não votar, de acordo com o seguintes critérios:\n",
        " - Menor de 16 anos, apresente a mensagem: \"Não Vota\".\n",
        " - A partir de 16 anos e menor que 18, apresente a mensagem: \"Voto Opcional\".\n",
        " - A partir de 18 anos e menor que 70, aprensente a mensagem: \"Voto Obrigatório\"\n",
        " - Maior de 70 anos, apresente a mensagem: \"Voto Opcional\""
      ]
    },
    {
      "cell_type": "code",
      "metadata": {
        "colab": {
          "base_uri": "https://localhost:8080/"
        },
        "id": "vb3SJZm5Asi4",
        "outputId": "fe083809-e1d8-4455-fb3e-840453de7b9b"
      },
      "source": [
        "idade = int(input(\"Digite a sua idade: \"))\n",
        "\n",
        "if idade < 16:\n",
        "  print(\"Não Vota\")\n",
        "\n",
        "elif idade >= 16 and idade < 18:\n",
        "  print(\"Voto Opcional\")\n",
        "\n",
        "elif idade >= 18 and idade < 70:\n",
        "  print(\"Voto Obrigatório\")\n",
        "\n",
        "else:\n",
        "  print(\"Voto Opcional\")"
      ],
      "execution_count": 6,
      "outputs": [
        {
          "output_type": "stream",
          "text": [
            "Digite a sua idade: 70\n",
            "Voto Opcional\n"
          ],
          "name": "stdout"
        }
      ]
    },
    {
      "cell_type": "markdown",
      "metadata": {
        "id": "q9tc9LsFJqj6"
      },
      "source": [
        "03 - Imagine que de acordo com a nota que você tirar na prova da disciplina de Lógica de Programação e Introdução a Programação, você poderá realizar as seguintes atividades no Domingo:\n",
        "\n",
        "* Caso a sua nota seja menor ou igual a 8 ficará em casa\n",
        "* Se tirar até 9 na prova, poderá tomar apenas sorvete.\n",
        "* Se você tirar até 9.5 na prova, poderá tomar sorvete e ir ao cinema\n",
        "* Se tirar mais de 9.5 na prova da disciplina de Lógica de Programação e Introdução a Programação, você poderá tomar sorvete, ir ao cinema e almoçar no shopping.\n",
        "\n",
        "\n"
      ]
    },
    {
      "cell_type": "code",
      "metadata": {
        "id": "yHx0p1L-LOpt",
        "colab": {
          "base_uri": "https://localhost:8080/"
        },
        "outputId": "6bdfd7a2-a22e-4c1e-b66c-a7b34cb7a393"
      },
      "source": [
        "nota = float(input(\"Digite a sua nota da prova: \"))\n",
        "\n",
        "if nota <= 8:\n",
        "  print(\"Ficará em casa\")\n",
        "\n",
        "elif nota <= 9:\n",
        "  print(\"Poderá tomar sorvete\")\n",
        "\n",
        "elif nota <= 9.5:\n",
        "  print(\"Poderá tomar sorvete e ir ao cinema\")\n",
        "\n",
        "else:\n",
        "  print(\"Poderá tomar sorvete, ir ao cinema e almoçar no shopping\")"
      ],
      "execution_count": 12,
      "outputs": [
        {
          "output_type": "stream",
          "text": [
            "Digite a sua nota da prova: 10\n",
            "Poderá tomar sorvete, ir ao cinema e almoçar no shopping\n"
          ],
          "name": "stdout"
        }
      ]
    },
    {
      "cell_type": "markdown",
      "metadata": {
        "id": "djjVTNLOLX8Z"
      },
      "source": [
        "4 - Informe a nota das duas avaliações da disciplina de Lógica de Programação e Introdução a Programação, em seguida calcule a média e verifique as condições abaixo para informar o status do estudante:\n",
        "\n",
        "- Caso a média seja menor ou igual a 6: imprima \"Reprovado\"\n",
        "- Caso a média seja menor que 7: imprima \"Recuperação\"\n",
        "- Caso a média seja menor ou igual a 8: imprima \"Aprovado\"\n",
        "- Se a soma das notas for menor que 9: imprima \"Parabéns\"\n",
        "- Caso a média das notas for maior ou igual a 9: imprima \"Excelente\"\n"
      ]
    },
    {
      "cell_type": "code",
      "metadata": {
        "id": "S1ZuUjnIM6u2",
        "colab": {
          "base_uri": "https://localhost:8080/"
        },
        "outputId": "7a9de74d-0d71-478b-e87b-366a28618290"
      },
      "source": [
        "primeira_nota = float(input(\"Digite a nota da primeira prova: \"))\n",
        "segunda_nota = float(input(\"Digite a nota da segunda prova: \"))\n",
        "\n",
        "media = (primeira_nota + segunda_nota)/2\n",
        "\n",
        "if media <= 6:\n",
        "  print(\"Reprovado\")\n",
        "\n",
        "elif media < 7:\n",
        "  print(\"Recuperação\")\n",
        "\n",
        "elif media <= 8:\n",
        "  print(\"Aprovado\")\n",
        "\n",
        "elif media < 9:\n",
        "  print(\"Parabéns\")\n",
        "\n",
        "else:\n",
        "  print(\"Excelente\")"
      ],
      "execution_count": 19,
      "outputs": [
        {
          "output_type": "stream",
          "text": [
            "Digite a nota da primeira prova: 9\n",
            "Digite a nota da segunda prova: 9\n",
            "Excelente\n"
          ],
          "name": "stdout"
        }
      ]
    },
    {
      "cell_type": "markdown",
      "metadata": {
        "id": "MQK3xj1TNZie"
      },
      "source": [
        "# REVISEM A ATIVIDADE E OS SLIDES PESSOAL, TENDO DÚVIDAS POSTE NO GRUPO DA DISCIPLINA.\n",
        "# SUCESSO!!!!"
      ]
    }
  ]
}