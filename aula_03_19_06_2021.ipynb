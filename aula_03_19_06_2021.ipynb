{
  "nbformat": 4,
  "nbformat_minor": 0,
  "metadata": {
    "colab": {
      "name": "aula_03_19_06_2021.ipynb",
      "provenance": [],
      "include_colab_link": true
    },
    "kernelspec": {
      "name": "python3",
      "display_name": "Python 3"
    },
    "language_info": {
      "name": "python"
    }
  },
  "cells": [
    {
      "cell_type": "markdown",
      "metadata": {
        "id": "view-in-github",
        "colab_type": "text"
      },
      "source": [
        "<a href=\"https://colab.research.google.com/github/luisgs7/Monitoria/blob/main/aula_03_19_06_2021.ipynb\" target=\"_parent\"><img src=\"https://colab.research.google.com/assets/colab-badge.svg\" alt=\"Open In Colab\"/></a>"
      ]
    },
    {
      "cell_type": "markdown",
      "metadata": {
        "id": "aL5fJHyg78WW"
      },
      "source": [
        "# Atividade de Hoje"
      ]
    },
    {
      "cell_type": "markdown",
      "metadata": {
        "id": "wVPtaXtW6TYG"
      },
      "source": [
        "## 01) Faça um programa para escrever a contagem regressiva do lançamento de um foguete. O programa deve imprimir 10, 9, 8, ..., 1, 0 e Fogo! na tela."
      ]
    },
    {
      "cell_type": "markdown",
      "metadata": {
        "id": "E0AaEh3jBhAD"
      },
      "source": [
        "## 01 - usuário informe um valor de entrada\n",
        "## 02 - Preciso decrementar este numero informado, no while\n",
        "## 03 - Imprimir o numero dentro do while"
      ]
    },
    {
      "cell_type": "code",
      "metadata": {
        "id": "ZV045yTC6MHT"
      },
      "source": [
        "numero = int(input(\"Digite o valor inicial da contagem: \")) # numero = 4\n",
        "\n",
        "while(numero >= 0): # numero >= 0 True numero = 4 | 3 | 2 | 1 | 0\n",
        "  print(numero)     # imprimo 4 | 3 | 2 | 1 | 0\n",
        "  numero = numero - 1 # numero = 4 - 1 = 3 | numero = 3 - 1 = 2 | 1 | 0 | -1 \n",
        " \n",
        "print(\"Fogo\")"
      ],
      "execution_count": null,
      "outputs": []
    },
    {
      "cell_type": "markdown",
      "metadata": {
        "id": "GGulmec8-h2K"
      },
      "source": [
        "## 02) Crie um programa para exibir os números de 1 a 100."
      ]
    },
    {
      "cell_type": "markdown",
      "metadata": {
        "id": "b25HLYajFXa4"
      },
      "source": [
        "## imcrementar o numero no while\n",
        "## De 1 até 100"
      ]
    },
    {
      "cell_type": "code",
      "metadata": {
        "id": "7m2wtbbg-nXT"
      },
      "source": [
        "valor_inicial = 1\n",
        "\n",
        "# Enquanto valor inicial for menor ou igual a 100, Saia do While\n",
        "while(valor_inicial <= 100):\n",
        "  print(valor_inicial)\n",
        "  valor_inicial = valor_inicial + 1"
      ],
      "execution_count": null,
      "outputs": []
    },
    {
      "cell_type": "markdown",
      "metadata": {
        "id": "aFccn0wd_RiF"
      },
      "source": [
        "## 03) Desenvolva um algoritmo que imprima a quantidade de números pares de 100 até 200, incluindo-os."
      ]
    },
    {
      "cell_type": "markdown",
      "metadata": {
        "id": "iKhK7CRGHA8-"
      },
      "source": [
        "## Verificar a partir do valor 100 até 200, e imprimir os numeros pares"
      ]
    },
    {
      "cell_type": "code",
      "metadata": {
        "id": "0jUK9rZv_b1e"
      },
      "source": [
        "valor_inicial = 100\n",
        "valor_final = 200\n",
        "\n",
        "while(valor_inicial <= valor_final): ## até 200 a partir de 100 os numeros pares e imprimir\n",
        "  # Se o valor_inicial é par ou ímpar\n",
        "  if(valor_inicial % 2 == 0): # 100/2 = 50.0 101/2 = 50.5   101/2 = 50.5\n",
        "    print(valor_inicial)\n",
        "\n",
        "  valor_inicial = valor_inicial + 1"
      ],
      "execution_count": null,
      "outputs": []
    },
    {
      "cell_type": "markdown",
      "metadata": {
        "id": "zbzT6BX8Ch5d"
      },
      "source": [
        "## 04) Como fazer para contar a quantidade de números pares entre dois números quaisquer?"
      ]
    },
    {
      "cell_type": "markdown",
      "metadata": {
        "id": "oe63MAS6J3Gb"
      },
      "source": [
        "## usuário irá informar um número inicial e um número final 10 - 20\n",
        "## Terei que verificar se o valor informado é par\n",
        "## Se for par imprima"
      ]
    },
    {
      "cell_type": "code",
      "metadata": {
        "id": "nC2xIS2OCg5N"
      },
      "source": [
        "numero_inicial = int(input(\"Digite o número inicial: \")) # 6\n",
        "numero_final = int(input(\"Digite o número final: \")) # 10\n",
        "      # 6 7               10\n",
        "while(numero_inicial <= numero_final):\n",
        "  # Verifico se o valor é par\n",
        "  if(numero_inicial % 2 == 0): # 6 / 2 = 3.0 7/2 = 3.5\n",
        "    print(numero_inicial) # imprimo 6\n",
        "    # Imcrementação\n",
        "  \n",
        "  numero_inicial = numero_inicial + 1 # 6 + 1 = 7\n"
      ],
      "execution_count": null,
      "outputs": []
    },
    {
      "cell_type": "markdown",
      "metadata": {
        "id": "-6qZ7sICD38v"
      },
      "source": [
        "## 05) Calcule o fatorial de um número informado pelo usuário."
      ]
    },
    {
      "cell_type": "code",
      "metadata": {
        "id": "n2EwEdNuEavn"
      },
      "source": [
        "numero = int(input(\"Digite um número para calcular um fatorial: \")) # 5\n",
        "fatorial = 1\n",
        "      # 5 | 4 | 3 | 2 | 1 True False \n",
        "while(numero > 0):\n",
        "  fatorial = fatorial * numero  # fatorial = 1 * 5 = 5 | 5 * 4 = 20 | 20 * 3 = 60 | 2 * 60 = 120\n",
        "  print(numero) # 5 4 3 2 1\n",
        "  numero = numero - 1 # 5 - 1 = 4 | 4 - 1 = 3 | 3 - 1 = 2 | 2 - 1 = 1 | 1 - 1 = 0\n",
        "\n",
        "print(\"A Fatorial eh:\", fatorial)"
      ],
      "execution_count": null,
      "outputs": []
    },
    {
      "cell_type": "markdown",
      "metadata": {
        "id": "uphPGTx5G1Ww"
      },
      "source": [
        "# URI Online Judge"
      ]
    },
    {
      "cell_type": "markdown",
      "metadata": {
        "id": "o0cUbS1NGmkn"
      },
      "source": [
        "## 1006 - Média 1\n"
      ]
    },
    {
      "cell_type": "code",
      "metadata": {
        "id": "xflGtEiDIRi5"
      },
      "source": [
        "A = float(input())\n",
        "B = float(input())\n",
        "C = float(input())\n",
        "\n",
        "MEDIA = (A * 2 + B * 3 + C * 5) / 10\n",
        "\n",
        "print(\"MEDIA = %.1f\" %(MEDIA))"
      ],
      "execution_count": null,
      "outputs": []
    }
  ]
}