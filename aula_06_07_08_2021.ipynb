{
  "nbformat": 4,
  "nbformat_minor": 0,
  "metadata": {
    "colab": {
      "name": "aula_06_07_08_2021.ipynb",
      "provenance": [],
      "collapsed_sections": [],
      "include_colab_link": true
    },
    "kernelspec": {
      "name": "python3",
      "display_name": "Python 3"
    },
    "language_info": {
      "name": "python"
    }
  },
  "cells": [
    {
      "cell_type": "markdown",
      "metadata": {
        "id": "view-in-github",
        "colab_type": "text"
      },
      "source": [
        "<a href=\"https://colab.research.google.com/github/luisgs7/Monitoria/blob/main/aula_06_07_08_2021.ipynb\" target=\"_parent\"><img src=\"https://colab.research.google.com/assets/colab-badge.svg\" alt=\"Open In Colab\"/></a>"
      ]
    },
    {
      "cell_type": "markdown",
      "metadata": {
        "id": "r0zqh7bSx566"
      },
      "source": [
        "# Boas práticas para o desenvolvimento de algoritmos (qualquer linguagem de programação)"
      ]
    },
    {
      "cell_type": "markdown",
      "metadata": {
        "id": "TA9vzwT0yE-2"
      },
      "source": [
        "## 01 ) Nunca utilize caracteres especiais `\"~, ô, ç,`\" dentre outros "
      ]
    },
    {
      "cell_type": "code",
      "metadata": {
        "id": "MViqmq_vxqe-"
      },
      "source": [
        "casa = \"Colinas\"\n",
        "\n",
        "nomecompleto = \"João Pedro\"\n",
        "\n",
        "colinasTocantins \n",
        "\n",
        "nome_completo = \"\"\n",
        "\n",
        "nomeCompleto = \"\""
      ],
      "execution_count": null,
      "outputs": []
    },
    {
      "cell_type": "markdown",
      "metadata": {
        "id": "I6Yy5RESyWjF"
      },
      "source": [
        "## 02) Sempre verifique se a variável que você criou está sendo utilizada `A != a`"
      ]
    },
    {
      "cell_type": "code",
      "metadata": {
        "id": "3btEOj0tyhmO"
      },
      "source": [
        "colinas = \"Cidade\"\n",
        "\n",
        "Colinas = \"Diferente\"\n",
        "\n",
        "COLINAS = \"Tocantins\"\n",
        "\n",
        "print(colinas)\n",
        "print(COLINAS)\n",
        "print(Colinas)\n",
        "\n",
        "A = 0\n",
        "\n",
        "while a != 1:\n",
        "  print(\"ok\")\n"
      ],
      "execution_count": null,
      "outputs": []
    },
    {
      "cell_type": "markdown",
      "metadata": {
        "id": "dlELiARSywmt"
      },
      "source": [
        "## 03) Quando necessitar criar uma variável com mais de uma palavra inicie a primeira palavra em minúsculo e adicione a primeira letra da segunda palavra em maiúsculo, \n",
        "## exemplo: `nomeComposto = \"José Pedro\"`"
      ]
    },
    {
      "cell_type": "code",
      "metadata": {
        "id": "DVH9rFeVzApi"
      },
      "source": [
        ""
      ],
      "execution_count": null,
      "outputs": []
    },
    {
      "cell_type": "markdown",
      "metadata": {
        "id": "IQk37LUdu9TW"
      },
      "source": [
        "# Atividade"
      ]
    },
    {
      "cell_type": "markdown",
      "metadata": {
        "id": "AliM6Ju_aq2L"
      },
      "source": [
        "## Crie um programa que le numeros até que 0 seja digitado, e que imprima na tela na ordem em que foi digitado"
      ]
    },
    {
      "cell_type": "markdown",
      "metadata": {
        "id": "_YfC1o1Na5th"
      },
      "source": [
        "## 1 - ler numeros (lista)\n",
        "## 2 - Imprimir na tela na ordem que foi digitado\n",
        "## Criar uma lista vazia\n",
        "## adicionar os valores na lista\n",
        "## ordenar os valores da lista e imprimir na ordem crescente 0 - 9"
      ]
    },
    {
      "cell_type": "code",
      "metadata": {
        "id": "crXxF_t4auRQ",
        "colab": {
          "base_uri": "https://localhost:8080/"
        },
        "outputId": "23c25a4a-aaa3-47c3-afba-53d01894fe6a"
      },
      "source": [
        "listaValores = []\n",
        "\n",
        "controle = 0\n",
        "\n",
        "while controle != 1:\n",
        "  valor = int(input(\"Digite um valor para preencher a lista, ou 0 para sair: \"))\n",
        "\n",
        "  if valor == 0:\n",
        "    controle = 1\n",
        "  \n",
        "  else:\n",
        "    listaValores.append(valor)\n",
        "  \n",
        "  print(listaValores)\n",
        "\n",
        "# Ordenando lista utilizando uma função do python a função: sorted()\n",
        "# listaOrdenada = sorted(listaValores)\n",
        "\n",
        "# Ordenar lista do menor valor para o maior valor, sem utilizar a função sorted()\n"
      ],
      "execution_count": 1,
      "outputs": [
        {
          "output_type": "stream",
          "name": "stdout",
          "text": [
            "Digite um valor para preencher a lista, ou 0 para sair: 1\n",
            "[1]\n",
            "Digite um valor para preencher a lista, ou 0 para sair: 3\n",
            "[1, 3]\n",
            "Digite um valor para preencher a lista, ou 0 para sair: 2\n",
            "[1, 3, 2]\n",
            "Digite um valor para preencher a lista, ou 0 para sair: 4\n",
            "[1, 3, 2, 4]\n",
            "Digite um valor para preencher a lista, ou 0 para sair: 0\n",
            "[1, 3, 2, 4]\n"
          ]
        }
      ]
    },
    {
      "cell_type": "markdown",
      "metadata": {
        "id": "frlz21nZuNsC"
      },
      "source": [
        "## Dúvida"
      ]
    },
    {
      "cell_type": "code",
      "metadata": {
        "colab": {
          "base_uri": "https://localhost:8080/"
        },
        "id": "b6hSk7gimLEf",
        "outputId": "0c46b62a-293e-4972-ea0d-c4842f21654b"
      },
      "source": [
        "valor=int(input(\"Digite o valor a pagar:\")) # 60\n",
        "cédulas=0\n",
        "\n",
        "atual=50\n",
        "apagar=valor # 60\n",
        "\n",
        "while True:\n",
        "  if atual<=apagar: # 50 <= 60 # 50 <= 10\n",
        "    apagar-=atual # -50 \n",
        "    cédulas+=1 # +1\n",
        "  else:\n",
        "    print(\"%d cédula(s) de R$%d\" % (cédulas, atual))\n",
        "    if apagar == 0:\n",
        "      break\n",
        "    if atual == 50:\n",
        "      atual = 20\n",
        "    elif atual == 20:\n",
        "      atual = 10\n",
        "    elif atual == 10:\n",
        "      atual = 5\n",
        "    elif atual == 5:\n",
        "      atual = 1\n",
        "    cédulas = 0"
      ],
      "execution_count": null,
      "outputs": [
        {
          "output_type": "stream",
          "text": [
            "Digite o valor a pagar:60\n",
            "1 cédula(s) de R$50\n",
            "0 cédula(s) de R$20\n",
            "1 cédula(s) de R$10\n"
          ],
          "name": "stdout"
        }
      ]
    }
  ]
}