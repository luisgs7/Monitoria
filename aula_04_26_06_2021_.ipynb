{
  "nbformat": 4,
  "nbformat_minor": 0,
  "metadata": {
    "colab": {
      "name": "aula_04_26_06_2021_.ipynb",
      "provenance": [],
      "include_colab_link": true
    },
    "kernelspec": {
      "name": "python3",
      "display_name": "Python 3"
    },
    "language_info": {
      "name": "python"
    }
  },
  "cells": [
    {
      "cell_type": "markdown",
      "metadata": {
        "id": "view-in-github",
        "colab_type": "text"
      },
      "source": [
        "<a href=\"https://colab.research.google.com/github/luisgs7/Monitoria/blob/main/aula_04_26_06_2021_.ipynb\" target=\"_parent\"><img src=\"https://colab.research.google.com/assets/colab-badge.svg\" alt=\"Open In Colab\"/></a>"
      ]
    },
    {
      "cell_type": "markdown",
      "metadata": {
        "id": "bkI4aFuvdFzh"
      },
      "source": [
        "## Dúvidas durante a aula"
      ]
    },
    {
      "cell_type": "code",
      "metadata": {
        "colab": {
          "base_uri": "https://localhost:8080/"
        },
        "id": "8H6OEn9cNB0c",
        "outputId": "e61bd516-f0e2-4d7d-9bc4-30cbf457f0cc"
      },
      "source": [
        "lista = [3, 4, 5, 7]\n",
        "\n",
        "maior_valor = 0\n",
        "\n",
        "for i in lista: # i = 3, i = 4, i = 5, i = 7\n",
        "  print(i)\n",
        "  if i > maior_valor: # 3 > 0 True | 4 > 3 True | 5 > 4 True | 7 > 5 True\n",
        "    maior_valor = i # 3 | 4 | 5 | 7\n",
        "\n",
        "print(maior_valor) "
      ],
      "execution_count": null,
      "outputs": [
        {
          "output_type": "stream",
          "text": [
            "3\n",
            "4\n",
            "5\n",
            "7\n",
            "7\n"
          ],
          "name": "stdout"
        }
      ]
    },
    {
      "cell_type": "code",
      "metadata": {
        "colab": {
          "base_uri": "https://localhost:8080/"
        },
        "id": "ceCKgIlMHFD3",
        "outputId": "709daee1-2b52-4a8c-b459-39607456ac8e"
      },
      "source": [
        "lista = [0, 1, 2, 3]\n",
        "\n",
        "lista2 = [9, 8]\n",
        "print(lista[0])\n",
        "\n",
        "lista.extend(lista2)\n",
        "print(lista[0])\n",
        "\n",
        "lista.append(4)\n",
        "print(lista)\n",
        "\n",
        "lista.pop()\n",
        "print(lista)\n",
        "\n",
        "lista.pop(0)\n",
        "print(lista)"
      ],
      "execution_count": null,
      "outputs": [
        {
          "output_type": "stream",
          "text": [
            "0\n",
            "[0, 1, 2, 3, 9, 8, 4]\n",
            "[0, 1, 2, 3, 9, 8]\n",
            "[1, 2, 3, 9, 8]\n"
          ],
          "name": "stdout"
        }
      ]
    },
    {
      "cell_type": "code",
      "metadata": {
        "colab": {
          "base_uri": "https://localhost:8080/"
        },
        "id": "OEoKj48dFUqh",
        "outputId": "81bfc20d-8758-4b13-f62b-cdb13315a748"
      },
      "source": [
        "a = [1, 2, 3, 4 ]\n",
        "b = 0\n",
        "while b < 3:\n",
        "  print(a[x])\n",
        "  b = b + 1"
      ],
      "execution_count": null,
      "outputs": [
        {
          "output_type": "stream",
          "text": [
            "1\n",
            "2\n",
            "3\n"
          ],
          "name": "stdout"
        }
      ]
    },
    {
      "cell_type": "markdown",
      "metadata": {
        "id": "ZURoluFZ4VRs"
      },
      "source": [
        "## **1005** - Média 1\n"
      ]
    },
    {
      "cell_type": "code",
      "metadata": {
        "id": "q-aredYP3OHK",
        "colab": {
          "base_uri": "https://localhost:8080/"
        },
        "outputId": "1f667bc4-cbd8-4c3f-8af8-364ed73a3cc1"
      },
      "source": [
        "A = float(input())\n",
        "B = float(input())\n",
        "\n",
        "media = (A * 3.5 + B * 7.5) / 11\n",
        "\n",
        "print(\"MEDIA = %.5f\" %(media))"
      ],
      "execution_count": null,
      "outputs": [
        {
          "output_type": "stream",
          "text": [
            "5.0\n",
            "7.1\n",
            "MEDIA = 6.43182\n"
          ],
          "name": "stdout"
        }
      ]
    },
    {
      "cell_type": "markdown",
      "metadata": {
        "id": "IjZbyZSf4ZRw"
      },
      "source": [
        "## 1007 - Diferença"
      ]
    },
    {
      "cell_type": "code",
      "metadata": {
        "id": "NdYa2ahG5XAb",
        "colab": {
          "base_uri": "https://localhost:8080/"
        },
        "outputId": "4b0a1c75-8831-4618-d625-35c1214f758a"
      },
      "source": [
        "A = int(input())\n",
        "B = int(input())\n",
        "C = int(input())\n",
        "D = int(input())\n",
        "\n",
        "DIFERENCA = (A * B - C * D)\n",
        "\n",
        "print(\"DIFERENCA =\", DIFERENCA)"
      ],
      "execution_count": null,
      "outputs": [
        {
          "output_type": "stream",
          "text": [
            "5\n",
            "6\n",
            "7\n",
            "8\n",
            "DIFERENCA = -26\n"
          ],
          "name": "stdout"
        }
      ]
    },
    {
      "cell_type": "markdown",
      "metadata": {
        "id": "KDh5OZuE-59D"
      },
      "source": [
        "# 03) Crie um programa que leia dois valores e mostre um menu na tela com as seguintes opções:\n",
        "\n",
        "* [1] somar\n",
        "* [2] multiplicar\n",
        "* [3] dividir\n",
        "* [4] subtrair\n",
        "* [5] sair do programa"
      ]
    },
    {
      "cell_type": "markdown",
      "metadata": {
        "id": "IRcx1Fm7FhKC"
      },
      "source": [
        "![05.png](data:image/png;base64,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)"
      ]
    },
    {
      "cell_type": "code",
      "metadata": {
        "id": "bFbFIZyG_csj",
        "colab": {
          "base_uri": "https://localhost:8080/"
        },
        "outputId": "34b9f012-b2a9-4bcc-a241-4cf9c6663ea3"
      },
      "source": [
        "primeiro_valor = int(input(\"Digite o primeiro valor inteiro: \"))\n",
        "segundo_valor = int(input(\"Digite o segundo valor inteiro: \"))\n",
        "\n",
        "controle = 1\n",
        "\n",
        "while(controle != 0):\n",
        "  controle = int(input(\"###### Escolha uma opção no Menu: ######\\n 1 - Somar \\n 2 - Multiplicar \\n 3 - Dividir \\n 4 - Subtrair \\n 5 - Sair do Programa: \\n\"))\n",
        "\n",
        "  if controle == 1:\n",
        "    soma = primeiro_valor + segundo_valor\n",
        "    print(\"Soma: \", soma)\n",
        "\n",
        "  elif controle == 2:\n",
        "    multiplica = primeiro_valor * segundo_valor\n",
        "    print(\"Multiplica: \", multiplica)\n",
        "\n",
        "  elif controle == 3:\n",
        "    dividir = primeiro_valor / segundo_valor\n",
        "    print(\"Dividir: \", dividir)\n",
        "\n",
        "  elif controle == 4:\n",
        "    subtrair = primeiro_valor - segundo_valor\n",
        "    print(\"Subtrair: \", subtrair)\n",
        "\n",
        "  elif controle == 5:\n",
        "    print(\"Sair do programa!\")\n",
        "    controle = 0\n",
        "  \n",
        "  else:\n",
        "    print(\"Valor digitado inválido, digite um valor correspondente!!\")\n"
      ],
      "execution_count": null,
      "outputs": [
        {
          "output_type": "stream",
          "text": [
            "Digite o primeiro valor inteiro: 3\n",
            "Digite o segundo valor inteiro: 4\n",
            "###### Escolha uma opção no Menu: ######\n",
            " 1 - Somar \n",
            " 2 - Multiplicar \n",
            " 3 - Dividir \n",
            " 4 - Subtrair \n",
            " 5 - Sair do Programa: \n",
            "1\n",
            "Soma:  7\n",
            "###### Escolha uma opção no Menu: ######\n",
            " 1 - Somar \n",
            " 2 - Multiplicar \n",
            " 3 - Dividir \n",
            " 4 - Subtrair \n",
            " 5 - Sair do Programa: \n",
            "2\n",
            "Multiplica:  12\n",
            "###### Escolha uma opção no Menu: ######\n",
            " 1 - Somar \n",
            " 2 - Multiplicar \n",
            " 3 - Dividir \n",
            " 4 - Subtrair \n",
            " 5 - Sair do Programa: \n",
            "3\n",
            "Dividir:  0.75\n",
            "###### Escolha uma opção no Menu: ######\n",
            " 1 - Somar \n",
            " 2 - Multiplicar \n",
            " 3 - Dividir \n",
            " 4 - Subtrair \n",
            " 5 - Sair do Programa: \n",
            "4\n",
            "Subtrair:  -1\n",
            "###### Escolha uma opção no Menu: ######\n",
            " 1 - Somar \n",
            " 2 - Multiplicar \n",
            " 3 - Dividir \n",
            " 4 - Subtrair \n",
            " 5 - Sair do Programa: \n",
            "9\n",
            "Valor digitado inválido, digite um valor correspondente!!\n",
            "###### Escolha uma opção no Menu: ######\n",
            " 1 - Somar \n",
            " 2 - Multiplicar \n",
            " 3 - Dividir \n",
            " 4 - Subtrair \n",
            " 5 - Sair do Programa: \n",
            "5\n",
            "Sair do programa!\n"
          ],
          "name": "stdout"
        }
      ]
    }
  ]
}