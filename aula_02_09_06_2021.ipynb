{
  "nbformat": 4,
  "nbformat_minor": 0,
  "metadata": {
    "colab": {
      "name": "aula_02(respostas)_09_06_2021.ipynb",
      "provenance": [],
      "include_colab_link": true
    },
    "kernelspec": {
      "name": "python3",
      "display_name": "Python 3"
    },
    "language_info": {
      "name": "python"
    }
  },
  "cells": [
    {
      "cell_type": "markdown",
      "metadata": {
        "id": "view-in-github",
        "colab_type": "text"
      },
      "source": [
        "<a href=\"https://colab.research.google.com/github/luisgs7/Monitoria/blob/main/aula_02_09_06_2021.ipynb\" target=\"_parent\"><img src=\"https://colab.research.google.com/assets/colab-badge.svg\" alt=\"Open In Colab\"/></a>"
      ]
    },
    {
      "cell_type": "markdown",
      "metadata": {
        "id": "wqTpbMbEBwfx"
      },
      "source": [
        "# Atividade\n",
        "\n",
        "## 01 - Desenvolva um algoritmo que permita realizar a escolha de um carro de acordo com o valor que o usuário digitar:\n",
        "\n",
        "\n",
        "*   Caso o valor do carro seja até R$ 30000, escolha um Gol\n",
        "\n",
        "*   Agora se o valor for menor que R$ 40000, escolha um Strada\n",
        "\n",
        "* Se o valor informado for menor que R$ 50000, escolha um Corolla\n",
        "\n",
        "* Agora se o valor for R$ 50000 ou mais, escolha uma HILUX \n"
      ]
    },
    {
      "cell_type": "code",
      "metadata": {
        "id": "BQxAATI1BwJ2"
      },
      "source": [
        "valor = int(input(\"Digite o valor do carro: \"))\n",
        "\n",
        "if valor <= 30000:\n",
        "  print(\"Carro escolhido é um Gol\")\n",
        "\n",
        "elif valor < 40000:\n",
        "  print(\"Carro escolhido é um Strada\")\n",
        "\n",
        "elif valor < 50000:\n",
        "  print(\"Carro escolhido é um Corolla\")\n",
        "\n",
        "else:\n",
        "  print(\"Carro escolhido é uma Hilux\")"
      ],
      "execution_count": null,
      "outputs": []
    },
    {
      "cell_type": "markdown",
      "metadata": {
        "id": "SQVJb4_sB4BX"
      },
      "source": [
        "##02 - A partir do valor informado pelo usuário, escolha para ele o seu destino nas férias de Julho.\n",
        "\n",
        " * Se o valor informado for até R$ 200 - Colinas\n",
        " \n",
        " * Se for menor que R$ 500 - Conceição do Araguaia\n",
        " \n",
        " * Caso seja menor que R$ 1000 - Palmas\n",
        " \n",
        " * Agora caso seja R$ 1000 ou mais - Salvador"
      ]
    },
    {
      "cell_type": "code",
      "metadata": {
        "id": "-ABoPZqCB4ee"
      },
      "source": [
        "valor = int(input(\"Digite o valor: \"))\n",
        "\n",
        "if valor <= 200:\n",
        "  print(\"Férias em Colinas\")\n",
        "\n",
        "elif valor < 500:\n",
        "  print(\"Férias em Conceição do Araguaia\")\n",
        "\n",
        "elif valor < 1000:\n",
        "  print(\"Férias em Palmas\")\n",
        "\n",
        "else:\n",
        "  print(\"Férias em Salvador\")"
      ],
      "execution_count": null,
      "outputs": []
    },
    {
      "cell_type": "markdown",
      "metadata": {
        "id": "aHdE9i4nB_Rz"
      },
      "source": [
        "# Resolução dos Exercícios do Site: https://www.urionlinejudge.com.br/judge/en/login"
      ]
    },
    {
      "cell_type": "markdown",
      "metadata": {
        "id": "8m4BbDwVanYa"
      },
      "source": [
        "## 1002 Área do Círculo"
      ]
    },
    {
      "cell_type": "code",
      "metadata": {
        "id": "YGmXzeUgb1pa"
      },
      "source": [
        "raio = float(input())\n",
        "n = 3.14159\n",
        "\n",
        "area = n * (raio * raio)\n",
        "\n",
        "print(\"A=%.4f\" %(area))"
      ],
      "execution_count": null,
      "outputs": []
    },
    {
      "cell_type": "markdown",
      "metadata": {
        "id": "dUMvDIpGbpLt"
      },
      "source": [
        "## 1003 Soma Simples"
      ]
    },
    {
      "cell_type": "code",
      "metadata": {
        "colab": {
          "base_uri": "https://localhost:8080/"
        },
        "id": "J5S71hStOpyU",
        "outputId": "21de1bd2-4a98-4101-935f-eff50e492bc7"
      },
      "source": [
        "A = int(input())\n",
        "B = int(input())\n",
        "\n",
        "SOMA = A + B\n",
        "\n",
        "print(\"SOMA =\", SOMA)"
      ],
      "execution_count": null,
      "outputs": [
        {
          "output_type": "stream",
          "text": [
            "20\n",
            "30\n",
            "SOMA = 50\n"
          ],
          "name": "stdout"
        }
      ]
    },
    {
      "cell_type": "markdown",
      "metadata": {
        "id": "mMc4DR-lcNDU"
      },
      "source": [
        "# 1004 Produto Simples"
      ]
    },
    {
      "cell_type": "code",
      "metadata": {
        "colab": {
          "base_uri": "https://localhost:8080/"
        },
        "id": "X8QdrjtNOvNs",
        "outputId": "d927584b-f712-4018-b977-cb694e91c394"
      },
      "source": [
        "a = int(input())\n",
        "b = int(input())\n",
        "\n",
        "PROD = a * b\n",
        "\n",
        "print(\"PROD =\", PROD)"
      ],
      "execution_count": null,
      "outputs": [
        {
          "output_type": "stream",
          "text": [
            "3\n",
            "4\n",
            "PROD = 12\n"
          ],
          "name": "stdout"
        }
      ]
    }
  ]
}